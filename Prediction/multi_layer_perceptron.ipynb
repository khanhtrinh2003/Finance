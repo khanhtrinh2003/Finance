{
 "cells": [
  {
   "cell_type": "code",
   "execution_count": 1,
   "metadata": {},
   "outputs": [],
   "source": [
    "import numpy as np\n",
    "import pandas as pd\n",
    "import matplotlib.pyplot as plt\n",
    "import yfinance as yf\n",
    "\n",
    "from sklearn.neural_network import MLPClassifier\n",
    "from sklearn.metrics import accuracy_score"
   ]
  },
  {
   "cell_type": "code",
   "execution_count": 2,
   "metadata": {},
   "outputs": [
    {
     "name": "stdout",
     "output_type": "stream",
     "text": [
      "[*********************100%***********************]  1 of 1 completed\n"
     ]
    }
   ],
   "source": [
    "stock = \"GOOGL\"\n",
    "df = pd.DataFrame(yf.download(stock, '2010-01-01', '2022-12-31')[\"Close\"])"
   ]
  },
  {
   "cell_type": "code",
   "execution_count": 3,
   "metadata": {},
   "outputs": [],
   "source": [
    "def rolling(lag, data):\n",
    "    A = []\n",
    "    df = data.tolist()\n",
    "    for i in range(lag, len(df)):\n",
    "        A.append(df[i-lag:i]) \n",
    "    return pd.DataFrame(A)\n",
    "\n",
    "def MLP(x,y):\n",
    "    model = MLPClassifier()\n",
    "    model.fit(x,y)\n",
    "    return model\n",
    "\n",
    "def UoD(x):\n",
    "    if x<0:\n",
    "        return -1\n",
    "    else: \n",
    "        return 1\n",
    "    \n",
    "def train_test_split(x,y,test_size):\n",
    "    i = int(len(x)*test_size)\n",
    "    j = int(len(y)*test_size)\n",
    "    return x[:i], x[i:], y[:j], y[j:]"
   ]
  },
  {
   "cell_type": "code",
   "execution_count": 4,
   "metadata": {},
   "outputs": [],
   "source": [
    "df[\"returns\"] =df.pct_change()\n",
    "df[\"UoD\"]= df[\"returns\"].map(UoD)"
   ]
  },
  {
   "cell_type": "code",
   "execution_count": 5,
   "metadata": {},
   "outputs": [],
   "source": [
    "lag = 3\n",
    "A = rolling(lag, df[\"Close\"])\n",
    "b = df[\"UoD\"][lag::]\n",
    "deon, dete, keyon, keyte = train_test_split(A,b, test_size=0.3)"
   ]
  },
  {
   "cell_type": "code",
   "execution_count": 6,
   "metadata": {},
   "outputs": [
    {
     "data": {
      "text/plain": [
       "0.528178243774574"
      ]
     },
     "execution_count": 6,
     "metadata": {},
     "output_type": "execute_result"
    }
   ],
   "source": [
    "a = MLP(deon, keyon)\n",
    "accuracy_score(keyte, a.predict(dete))"
   ]
  },
  {
   "cell_type": "code",
   "execution_count": null,
   "metadata": {},
   "outputs": [],
   "source": []
  },
  {
   "cell_type": "code",
   "execution_count": 21,
   "metadata": {},
   "outputs": [
    {
     "data": {
      "text/plain": [
       "[<matplotlib.lines.Line2D at 0x1f7542f1c60>]"
      ]
     },
     "execution_count": 21,
     "metadata": {},
     "output_type": "execute_result"
    },
    {
     "data": {
      "image/png": "[encoded data removed]",
      "text/plain": [
       "<Figure size 640x480 with 1 Axes>"
      ]
     },
     "metadata": {},
     "output_type": "display_data"
    }
   ],
   "source": [
    "re2 = df[\"returns\"][int(0.3*len(df[\"returns\"])):]\n",
    "plt.plot(np.cumprod(1+re2))\n",
    "plt.plot()"
   ]
  },
  {
   "cell_type": "code",
   "execution_count": 22,
   "metadata": {},
   "outputs": [
    {
     "data": {
      "text/plain": [
       "array([2, 4, 8, ..., 0, 0, 0], dtype=int64)"
      ]
     },
     "execution_count": 22,
     "metadata": {},
     "output_type": "execute_result"
    }
   ],
   "source": []
  },
  {
   "cell_type": "code",
   "execution_count": null,
   "metadata": {},
   "outputs": [],
   "source": [
    "\n",
    "\n",
    "import pandas as pd\n",
    "import numpy as np\n",
    "import matplotlib.pyplot as plt\n",
    "import pymysql\n",
    "\n",
    "\n",
    "# In[6]:\n",
    "\n",
    "\n",
    "db_connection = pymysql.connect(host='13.251.234.97', user='bi_all', passwd='vela.12345', db='python_prj')\n",
    "# cur = conn.cursor()\n",
    "# hsx\n",
    "df1 = pd.read_sql(\"\"\"select * from HSX_data\"\"\", con=db_connection)\n",
    "# hnx\n",
    "df2 = pd.read_sql(\"\"\"select * from HNX_data\"\"\", con=db_connection)\n",
    "df = pd.concat([df1, df2], axis=0)\n",
    "# vn30 ky 1 2019\n",
    "ticket = ['CII','CTD','CTG','DHG','DPM','EIB','FPT','GAS','GMD','HDB','HPG','MBB','MSN','MWG','NVL','PNJ','REE','ROS','SAB','SBT','SSI','STB','TCB','VCB','VHM','VIC','VJC','VNM','VPB','VRE']\n",
    "frames = [df[df['<Ticker>']== 'CII'],\n",
    "          df[df['<Ticker>']== 'CTD'],\n",
    "          df[df['<Ticker>']== 'CTG'],\n",
    "          df[df['<Ticker>']== 'DHG'],\n",
    "          df[df['<Ticker>']== 'DPM'],\n",
    "          df[df['<Ticker>']== 'EIB'],\n",
    "          df[df['<Ticker>']== 'FPT'],\n",
    "          df[df['<Ticker>']== 'GAS'],\n",
    "          df[df['<Ticker>']== 'GMD'],\n",
    "          df[df['<Ticker>']== 'HDB'],\n",
    "          df[df['<Ticker>']== 'HPG'],\n",
    "          df[df['<Ticker>']== 'MBB'],\n",
    "          df[df['<Ticker>']== 'MSN'],\n",
    "          df[df['<Ticker>']== 'MWG'],\n",
    "          df[df['<Ticker>']== 'NVL'],\n",
    "          df[df['<Ticker>']== 'PNJ'],\n",
    "          df[df['<Ticker>']== 'REE'],\n",
    "          df[df['<Ticker>']== 'ROS'],\n",
    "          df[df['<Ticker>']== 'SAB'],\n",
    "          df[df['<Ticker>']== 'SBT'],\n",
    "          df[df['<Ticker>']== 'SSI'],\n",
    "          df[df['<Ticker>']== 'STB'],\n",
    "          df[df['<Ticker>']== 'TCB'],\n",
    "          df[df['<Ticker>']== 'VCB'],\n",
    "          df[df['<Ticker>']== 'VHM'],\n",
    "          df[df['<Ticker>']== 'VIC'],\n",
    "          df[df['<Ticker>']== 'VJC'],\n",
    "          df[df['<Ticker>']== 'VNM'],\n",
    "          df[df['<Ticker>']== 'VPB'],\n",
    "          df[df['<Ticker>']== 'VRE']\n",
    "         ]\n",
    "df = pd.concat(frames)\n",
    "vn_index_df = pd.read_sql(\"\"\"select * from INDEX_data\"\"\", con=db_connection)\n",
    "\n",
    "def setting(alpha):\n",
    "    # Set weight > 0\n",
    "    alpha = alpha.sub(alpha.min(axis=1), axis=0)\n",
    "    # Normalize\n",
    "    alpha = alpha.div(alpha.sum(axis=1), axis=0)\n",
    "    # Set none if nan > 20\n",
    "    di = alpha.index.where(alpha.isnull().sum(axis = 1) >= 20)\n",
    "    di = di[~np.isnan(di)]\n",
    "    alpha.loc[di] = None\n",
    "    # Max stock weight = 0.2\n",
    "    alpha[alpha > 0.2] = 0.2\n",
    "    return alpha\n",
    "\n",
    "\n",
    "def get_sharpe(values):\n",
    "    try:\n",
    "        return np.mean(values)/np.std(values)*np.sqrt(252)\n",
    "    except Exception:\n",
    "        return 0\n",
    "    \n",
    "    \n",
    "def drop_value(data):\n",
    "    return data.drop(data[(data.index < 20090000) | (data.index > 20189999)].index)\n",
    "\n",
    "\n",
    "class SimResult(object):\n",
    "    def __init__(self, weights, date_idx, booksize):\n",
    "        self.weights = weights\n",
    "        self.booksize = booksize\n",
    "        self.date_idx = date_idx\n",
    "    \n",
    "    def get_turnover(self):\n",
    "        weights_t = self.weights[1:,:]\n",
    "        weights_t1 = self.weights[:-1,:]\n",
    "        turnover = np.nansum(np.abs(weights_t - weights_t1), axis = 1)\n",
    "        return turnover\n",
    "    \n",
    "    def get_portfolio_returns(self):\n",
    "        res = np.nansum(self.weights[:-1,:]*returns, axis = 1)\n",
    "        return res\n",
    "        \n",
    "    def get_pnl(self):\n",
    "        pnl = self.booksize*np.nansum(self.weights[:-1,:]*returns, axis = 1)\n",
    "        return pnl\n",
    "    \n",
    "    def get_count(self):\n",
    "        return np.sum(~np.isnan(self.weights[:-1,:]*returns), axis = 1)\n",
    "         \n",
    "    def get_stats_table(self):\n",
    "        year_idx = self.date_idx.year\n",
    "        returns_p = self.get_portfolio_returns()        \n",
    "        pnl = self.get_pnl()\n",
    "        turnover = self.get_turnover()\n",
    "        count = self.get_count()\n",
    "        \n",
    "        temp_df = pd.DataFrame(np.array([returns_p, pnl, turnover, turnover, year_idx[1:], pnl/turnover, count]).T, columns =['returns', 'pnl', 'sumturnover', 'turnover','year_idx', 'margin', 'count']).reset_index()\n",
    "        temp_df = temp_df.groupby('year_idx').agg({'returns': get_sharpe, 'pnl': 'sum', 'sumturnover': np.nansum, 'turnover': np.nanmean, 'margin': np.sum, 'count': np.mean})\n",
    "        temp_df['margin'] = temp_df.pnl/temp_df.sumturnover*1000\n",
    "        temp_df['returns_'] = temp_df.pnl/self.booksize *100\n",
    "        temp_df['turnover'] = temp_df.turnover*100\n",
    "        temp_df['count'] = temp_df['count'].round(0)\n",
    "        temp_df.rename(columns = {'returns':'sharpe'}, inplace= True)\n",
    "        # fitness\n",
    "        temp_df['fitness'] = temp_df['sharpe']*np.sqrt(np.abs(temp_df['returns_']/temp_df.turnover))\n",
    "        temp_df.drop(columns=['sumturnover'], inplace = True)\n",
    "        # all time\n",
    "        sharpe = get_sharpe(returns_p)\n",
    "        turnover = np.mean(self.get_turnover())*100\n",
    "        pnl = np.sum(self.get_pnl())\n",
    "        returns_p = np.mean(temp_df['returns_'])\n",
    "        fitness = sharpe*np.sqrt(np.abs(returns_p/turnover))\n",
    "        margin = pnl/np.nansum(self.get_turnover())*1000\n",
    "        count = np.round(np.mean(self.get_count()))\n",
    "        temp_df.loc['2009-2018'] = [sharpe, pnl, turnover, margin, count, returns_p, fitness,]\n",
    "        return temp_df\n",
    "\n",
    "    def get_corr(self):\n",
    "        print('Correlation', np.corrcoef(self.get_portfolio_returns(), vn_index_return)[0][1])\n",
    "        \n",
    "    def plot_pnl(self):\n",
    "        pnl = self.get_pnl()\n",
    "        cum_pnl = np.cumsum(pnl)\n",
    "        vn_pnl = np.cumsum(vn_index_return)\n",
    "        plt.plot(date_idx[:-1], cum_pnl, '-r')\n",
    "        plt.plot(date_idx[:-1], vn_pnl, '-b')\n",
    "        plt.legend(['alpha', 'vnindex'], loc='upper left')\n",
    "        plt.show()\n",
    "\n",
    "\n",
    "# Note: dropna = False\n",
    "# Calculate returns\n",
    "close_df = df.pivot_table(index = '<DTYYYYMMDD>', columns='<Ticker>', values = '<Close>', dropna=False)\n",
    "close_df = drop_value(close_df)\n",
    "closes = drop_value(close_df).values\n",
    "closes_t = closes[1:,]\n",
    "closes_t1 = closes[:-1, :]\n",
    "returns = (closes_t - closes_t1)/closes_t1\n",
    "\n",
    "# Calculate returns\n",
    "vn_index_pivot = vn_index_df.pivot_table(index = '<DTYYYYMMDD>', columns='<Ticker>', values = '<Close>', dropna=False)['VNINDEX']\n",
    "vn_index_pivot = drop_value(vn_index_pivot)\n",
    "# clean\n",
    "vn_index = vn_index_pivot.drop(vn_index_pivot.index[np.where(~drop_value(vn_index_pivot).index.isin(close_df.index))]).values\n",
    "vn_index_t = vn_index[1:]\n",
    "vn_index_t1 = vn_index[:-1]\n",
    "vn_index_return = (vn_index_t - vn_index_t1)/vn_index_t1\n",
    "sharpe_index = get_sharpe(vn_index_return)\n",
    "pnl_index = np.sum(vn_index_return)\n",
    "\n",
    "\n",
    "# In[9]:\n",
    "\n",
    "\n",
    "# delay(close, 5)\n",
    "close = df.pivot_table(index = '<DTYYYYMMDD>', columns='<Ticker>', values = '<Close>', dropna=False)\n",
    "close_5 = close.shift(5)\n",
    "# - delta(close,5)\n",
    "alpha = -(close - close_5)\n",
    "alpha = setting(alpha)\n",
    "\n",
    "\n",
    "# In[10]:\n",
    "\n",
    "\n",
    "weights= drop_value(alpha).values\n",
    "date_idx = pd.to_datetime(drop_value(alpha).index.astype(str), format = '%Y%m%d')\n",
    "\n",
    "\n",
    "# In[11]:\n",
    "\n",
    "\n",
    "simResult = SimResult(weights, date_idx, 1)\n",
    "\n",
    "\n",
    "# In[12]:\n",
    "\n",
    "\n",
    "simResult.plot_pnl()\n",
    "temp_df = simResult.get_stats_table()\n",
    "# vn_index\n",
    "temp_df.loc['vn_index'] = [sharpe_index,\n",
    "                           pnl_index,\n",
    "                           None,\n",
    "                           None,\n",
    "                           None,\n",
    "                           np.nansum(vn_index_return)*10,\n",
    "                           None]\n",
    "print(temp_df)\n",
    "simResult.get_corr()\n"
   ]
  }
 ],
 "metadata": {
  "kernelspec": {
   "display_name": "Python 3",
   "language": "python",
   "name": "python3"
  },
  "language_info": {
   "codemirror_mode": {
    "name": "ipython",
    "version": 3
   },
   "file_extension": ".py",
   "mimetype": "text/x-python",
   "name": "python",
   "nbconvert_exporter": "python",
   "pygments_lexer": "ipython3",
   "version": "3.10.9 (tags/v3.10.9:1dd9be6, Dec  6 2022, 20:01:21) [MSC v.1934 64 bit (AMD64)]"
  },
  "orig_nbformat": 4,
  "vscode": {
   "interpreter": {
    "hash": "a42ccb73e7d9bfdf27e036f1d2b8b681e55fc0743cc5586bc2474d4a60f4b886"
   }
  }
 },
 "nbformat": 4,
 "nbformat_minor": 2
}
