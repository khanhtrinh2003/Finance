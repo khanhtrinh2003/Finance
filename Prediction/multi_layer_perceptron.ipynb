{
 "cells": [
  {
   "cell_type": "code",
   "execution_count": 1,
   "metadata": {},
   "outputs": [],
   "source": [
    "import numpy as np\n",
    "import pandas as pd\n",
    "import matplotlib.pyplot as plt\n",
    "import yfinance as yf\n",
    "\n",
    "from sklearn.neural_network import MLPClassifier\n",
    "from sklearn.metrics import accuracy_score"
   ]
  },
  {
   "cell_type": "code",
   "execution_count": 2,
   "metadata": {},
   "outputs": [
    {
     "name": "stdout",
     "output_type": "stream",
     "text": [
      "[*********************100%***********************]  1 of 1 completed\n"
     ]
    }
   ],
   "source": [
    "stock = \"GOOGL\"\n",
    "df = pd.DataFrame(yf.download(stock, '2010-01-01', '2022-12-31')[\"Close\"])"
   ]
  },
  {
   "cell_type": "code",
   "execution_count": 3,
   "metadata": {},
   "outputs": [],
   "source": [
    "def rolling(lag, data):\n",
    "    A = []\n",
    "    df = data.tolist()\n",
    "    for i in range(lag, len(df)):\n",
    "        A.append(df[i-lag:i]) \n",
    "    return pd.DataFrame(A)\n",
    "\n",
    "def MLP(x,y):\n",
    "    model = MLPClassifier()\n",
    "    model.fit(x,y)\n",
    "    return model\n",
    "\n",
    "def UoD(x):\n",
    "    if x<0:\n",
    "        return -1\n",
    "    else: \n",
    "        return 1\n",
    "    \n",
    "def train_test_split(x,y,test_size):\n",
    "    i = int(len(x)*test_size)\n",
    "    j = int(len(y)*test_size)\n",
    "    return x[:i], x[i:], y[:j], y[j:]"
   ]
  },
  {
   "cell_type": "code",
   "execution_count": 4,
   "metadata": {},
   "outputs": [],
   "source": [
    "df[\"returns\"] =df.pct_change()\n",
    "df[\"UoD\"]= df[\"returns\"].map(UoD)"
   ]
  },
  {
   "cell_type": "code",
   "execution_count": 5,
   "metadata": {},
   "outputs": [],
   "source": [
    "lag = 3\n",
    "A = rolling(lag, df[\"Close\"])\n",
    "b = df[\"UoD\"][lag::]\n",
    "deon, dete, keyon, keyte = train_test_split(A,b, test_size=0.3)"
   ]
  },
  {
   "cell_type": "code",
   "execution_count": 6,
   "metadata": {},
   "outputs": [
    {
     "data": {
      "text/plain": [
       "0.4849279161205767"
      ]
     },
     "execution_count": 6,
     "metadata": {},
     "output_type": "execute_result"
    }
   ],
   "source": [
    "a = MLP(deon, keyon)\n",
    "accuracy_score(keyte, a.predict(dete))"
   ]
  }
 ],
 "metadata": {
  "kernelspec": {
   "display_name": "Python 3",
   "language": "python",
   "name": "python3"
  },
  "language_info": {
   "codemirror_mode": {
    "name": "ipython",
    "version": 3
   },
   "file_extension": ".py",
   "mimetype": "text/x-python",
   "name": "python",
   "nbconvert_exporter": "python",
   "pygments_lexer": "ipython3",
   "version": "3.10.9"
  },
  "orig_nbformat": 4,
  "vscode": {
   "interpreter": {
    "hash": "a42ccb73e7d9bfdf27e036f1d2b8b681e55fc0743cc5586bc2474d4a60f4b886"
   }
  }
 },
 "nbformat": 4,
 "nbformat_minor": 2
}
