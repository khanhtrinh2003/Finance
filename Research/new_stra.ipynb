{
 "cells": [
  {
   "cell_type": "code",
   "execution_count": null,
   "metadata": {},
   "outputs": [],
   "source": [
    "import numpy as np\n",
    "import pandas as pd\n",
    "import matplotlib.pyplot as plt\n",
    "import yfinance as yf\n",
    "from scipy.optimize import minimize"
   ]
  },
  {
   "cell_type": "code",
   "execution_count": null,
   "metadata": {},
   "outputs": [],
   "source": [
    "start_date = '2010-01-01'\n",
    "end_date = '2022-12-31'\n",
    "stock = [\"GOOGL\", \"ORCL\", \"MSFT\", \"TSLA\", \"PEP\", \"AMZN\", \"NVDA\", \"V\", \"JNJ\", \"META\", \"CVX\"]\n",
    "data = yf.download(stock, start_date, end_date)[\"Close\"]"
   ]
  },
  {
   "cell_type": "code",
   "execution_count": null,
   "metadata": {},
   "outputs": [],
   "source": [
    "class Strategy():\n",
    "    def __init__(self, data, lag):\n",
    "        self.data = data\n",
    "        self.lag = lag\n",
    "\n",
    "        self.returns = self.data.pct_change()\n",
    "        self.diff_data = self.data.diff()\n",
    "        self.abs_diff_data = abs(self.diff_data)\n",
    "        self.nominator_data =(self.abs_diff_data+self.diff_data)/2\n",
    "        self.a = (self.abs_diff_data-self.diff_data)/2\n",
    "        self.prob = self.nominator_data.rolling(self.lag).sum()/((self.abs_diff_data+self.a).rolling(self.lag).sum())\n",
    "\n",
    "        self.sig = 1*(self.prob>0.5)-1*(self.prob<0.5)\n",
    "        \n",
    "    def get_return(self):\n",
    "        r = (self.sig*self.returns.shift(-1))\n",
    "        return r\n",
    "        \n",
    "    def get_strategy_return(self):\n",
    "        return np.prod(1+self.get_return())**(252/len(self.get_return()))-1\n",
    "\n",
    "    def get_sharpe(self):\n",
    "        r =self.get_return()\n",
    "        try:\n",
    "            return (self.get_strategy_return())/(np.std(r)*np.sqrt(252))\n",
    "        except Exception:\n",
    "            return 0\n",
    "    def get_plot(self):\n",
    "        r =self.get_return()\n",
    "        plt.plot(np.cumprod(1+r), label=r.columns)\n",
    "        # plt.plot(np.cumprod(1+self.data[\"return\"]), label=\"buy and hold\") \n",
    "        plt.title(\"Cumulative return\") \n",
    "        plt.legend() \n",
    "    \n",
    "    def get_summary(self):\n",
    "        a = pd.concat([pd.DataFrame(self.get_sharpe()).T,pd.DataFrame(self.get_strategy_return()).T])\n",
    "        return a\n",
    "        \n",
    "class Portfolio(Strategy):\n",
    "    def __init__(self, data, lag):\n",
    "        super().__init__(data, lag)\n",
    "        \n",
    "    def optimize_portfolio(self, target_return=0.05):\n",
    "        returns = self.get_return()\n",
    "        n = returns.shape[1]\n",
    "        initial_guess = np.ones(n)/n\n",
    "        bounds = [(0, 1) for i in range(n)]\n",
    "        constraints = ({'type': 'eq', 'fun': lambda x: np.sum(x) - 1},\n",
    "                    {'type': 'eq', 'fun': lambda x: np.dot(x, returns.mean()) - target_return})\n",
    "        result = minimize(lambda x: -np.dot(x, returns.mean()) / np.sqrt(np.dot(x, np.dot(returns.cov(), x))),\n",
    "                        initial_guess, bounds=bounds, constraints=constraints)\n",
    "        return result.x\n",
    "        \n",
    "    def calc_profit_loss(self):\n",
    "        pnl = np.dot(self.get_return(), self.optimize_portfolio())\n",
    "        return np.cumprod(1+pnl)\n"
   ]
  },
  {
   "cell_type": "code",
   "execution_count": null,
   "metadata": {},
   "outputs": [],
   "source": [
    "lag = 10\n",
    "m = Portfolio(data, lag)\n",
    "from sklearn.metrics import accuracy_score\n",
    "for i in data.columns:\n",
    "    pre = m.sig[i].tolist()\n",
    "    def u(x):\n",
    "        if x>0:\n",
    "            return 1\n",
    "        elif x<0: \n",
    "            return -1\n",
    "        else:\n",
    "            return 0 \n",
    "    rea = m.returns[i].shift(-1).map(u).tolist()\n",
    "\n",
    "    print(accuracy_score(pre[lag:], rea[lag:]))"
   ]
  },
  {
   "cell_type": "code",
   "execution_count": null,
   "metadata": {},
   "outputs": [],
   "source": [
    "m.get_plot()"
   ]
  }
 ],
 "metadata": {
  "kernelspec": {
   "display_name": "Python 3",
   "language": "python",
   "name": "python3"
  },
  "language_info": {
   "name": "python",
   "version": "3.10.9 (tags/v3.10.9:1dd9be6, Dec  6 2022, 20:01:21) [MSC v.1934 64 bit (AMD64)]"
  },
  "orig_nbformat": 4,
  "vscode": {
   "interpreter": {
    "hash": "a42ccb73e7d9bfdf27e036f1d2b8b681e55fc0743cc5586bc2474d4a60f4b886"
   }
  }
 },
 "nbformat": 4,
 "nbformat_minor": 2
}
