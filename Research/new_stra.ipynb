{
 "cells": [
  {
   "cell_type": "code",
   "execution_count": 1,
   "metadata": {},
   "outputs": [],
   "source": [
    "import numpy as np\n",
    "import pandas as pd\n",
    "import matplotlib.pyplot as plt\n",
    "import yfinance as yf\n",
    "from scipy.optimize import minimize"
   ]
  },
  {
   "cell_type": "code",
   "execution_count": 2,
   "metadata": {},
   "outputs": [
    {
     "name": "stdout",
     "output_type": "stream",
     "text": [
      "[*********************100%***********************]  4 of 4 completed\n"
     ]
    }
   ],
   "source": [
    "start_date = '2010-01-01'\n",
    "end_date = '2022-12-31'\n",
    "stock = [\"GOOGL\", \"ORCL\", \"MSFT\", \"TSLA\"]\n",
    "data = yf.download(stock, start_date, end_date)[\"Close\"]"
   ]
  },
  {
   "cell_type": "code",
   "execution_count": 55,
   "metadata": {},
   "outputs": [],
   "source": [
    "class Strategy():\n",
    "    def __init__(self, data, lag):\n",
    "        self.data = data\n",
    "        self.lag = lag\n",
    "\n",
    "        self.returns = self.data.pct_change()\n",
    "        self.diff_data = self.data.diff()\n",
    "        self.abs_diff_data = abs(self.diff_data)\n",
    "        self.nominator_data =(self.abs_diff_data+self.diff_data)/2\n",
    "        self.a = (self.abs_diff_data-self.diff_data)/2\n",
    "        self.prob = self.nominator_data.rolling(self.lag).sum()/((self.abs_diff_data).rolling(self.lag).sum())\n",
    "\n",
    "        self.sig = 1*(self.prob>0.8)\n",
    "        \n",
    "    def get_return(self):\n",
    "        r = (self.sig*self.returns.shift(-1))\n",
    "        return r\n",
    "        \n",
    "    def get_strategy_return(self):\n",
    "        return np.prod(1+self.get_return())**(252/len(self.get_return()))-1\n",
    "\n",
    "    def get_sharpe(self):\n",
    "        r =self.get_return()\n",
    "        try:\n",
    "            return (self.get_strategy_return())/(np.std(r)*np.sqrt(252))\n",
    "        except Exception:\n",
    "            return 0\n",
    "    def get_plot(self):\n",
    "        r =self.get_return()\n",
    "        plt.plot(np.cumprod(1+r), label=r.columns)\n",
    "        # plt.plot(np.cumprod(1+self.data[\"return\"]), label=\"buy and hold\") \n",
    "        plt.title(\"Cumulative return\") \n",
    "        plt.legend() \n",
    "    \n",
    "    def get_summary(self):\n",
    "        a = pd.concat([pd.DataFrame(self.get_sharpe()).T,pd.DataFrame(self.get_strategy_return()).T]).reset_index()\n",
    "        a[\"name\"] = pd.DataFrame({\"name\": [\"sharpe\",\"return\"]})\n",
    "        return a.set_index([\"name\"]).drop(\"index\", axis=1)\n",
    "        \n",
    "class Portfolio(Strategy):\n",
    "    def __init__(self, data, lag):\n",
    "        super().__init__(data, lag)\n",
    "        \n",
    "    def optimize_portfolio(self, target_return=0.05):\n",
    "        returns = self.get_return()\n",
    "        n = returns.shape[1]\n",
    "        initial_guess = np.ones(n)/n\n",
    "        bounds = [(0, 1) for i in range(n)]\n",
    "        constraints = ({'type': 'eq', 'fun': lambda x: np.sum(x) - 1},\n",
    "                    {'type': 'eq', 'fun': lambda x: np.dot(x, returns.mean()) - target_return})\n",
    "        result = minimize(lambda x: -np.dot(x, returns.mean()) / np.sqrt(np.dot(x, np.dot(returns.cov(), x))),\n",
    "                        initial_guess, bounds=bounds, constraints=constraints)\n",
    "        return result.x\n",
    "        \n",
    "    def calc_profit_loss(self):\n",
    "        pnl = np.dot(self.get_return(), self.optimize_portfolio())\n",
    "        return np.cumprod(1+pnl)\n"
   ]
  },
  {
   "cell_type": "code",
   "execution_count": 27,
   "metadata": {},
   "outputs": [],
   "source": [
    "def u(x):\n",
    "    if x>0:\n",
    "        return 1\n",
    "    elif x<0: \n",
    "        return -1\n",
    "    else:\n",
    "        return 0 "
   ]
  },
  {
   "cell_type": "code",
   "execution_count": 56,
   "metadata": {},
   "outputs": [
    {
     "name": "stdout",
     "output_type": "stream",
     "text": [
      "0.20703363914373088\n",
      "0.19051987767584097\n",
      "0.18593272171253822\n",
      "0.22415902140672783\n"
     ]
    }
   ],
   "source": [
    "lag = 2\n",
    "m = Portfolio(data, lag)\n",
    "from sklearn.metrics import accuracy_score\n",
    "for i in data.columns:\n",
    "    pre = m.sig[i].tolist()\n",
    "    rea = m.returns[i].shift(-1).map(u).tolist()\n",
    "\n",
    "    print(accuracy_score(pre[lag:], rea[lag:]))"
   ]
  },
  {
   "cell_type": "code",
   "execution_count": 14,
   "metadata": {},
   "outputs": [
    {
     "data": {
      "text/plain": [
       "Index(['GOOGL', 'MSFT', 'ORCL', 'TSLA'], dtype='object')"
      ]
     },
     "execution_count": 14,
     "metadata": {},
     "output_type": "execute_result"
    }
   ],
   "source": [
    "data.columns"
   ]
  },
  {
   "cell_type": "code",
   "execution_count": 49,
   "metadata": {},
   "outputs": [],
   "source": [
    "rea = m.returns['GOOGL'].shift(-1).map(u).tolist()"
   ]
  },
  {
   "cell_type": "code",
   "execution_count": 50,
   "metadata": {},
   "outputs": [],
   "source": [
    "a = m.sig"
   ]
  },
  {
   "cell_type": "code",
   "execution_count": 51,
   "metadata": {},
   "outputs": [],
   "source": [
    "a[\"gp\"] = rea\n",
    "c = a[a.GOOGL !=0]\n",
    "r = c[\"GOOGL\"].tolist()\n",
    "p = c[\"gp\"].tolist()"
   ]
  },
  {
   "cell_type": "code",
   "execution_count": 52,
   "metadata": {},
   "outputs": [
    {
     "name": "stdout",
     "output_type": "stream",
     "text": [
      "0.5418130709768095\n"
     ]
    }
   ],
   "source": [
    "print(accuracy_score(p, r))"
   ]
  },
  {
   "cell_type": "code",
   "execution_count": 57,
   "metadata": {},
   "outputs": [
    {
     "data": {
      "image/png": "[encoded data removed]",
      "text/plain": [
       "<Figure size 640x480 with 1 Axes>"
      ]
     },
     "metadata": {},
     "output_type": "display_data"
    }
   ],
   "source": [
    "m.get_plot()"
   ]
  },
  {
   "cell_type": "code",
   "execution_count": 58,
   "metadata": {},
   "outputs": [
    {
     "data": {
      "text/html": [
       "<div>\n",
       "<style scoped>\n",
       "    .dataframe tbody tr th:only-of-type {\n",
       "        vertical-align: middle;\n",
       "    }\n",
       "\n",
       "    .dataframe tbody tr th {\n",
       "        vertical-align: top;\n",
       "    }\n",
       "\n",
       "    .dataframe thead th {\n",
       "        text-align: right;\n",
       "    }\n",
       "</style>\n",
       "<table border=\"1\" class=\"dataframe\">\n",
       "  <thead>\n",
       "    <tr style=\"text-align: right;\">\n",
       "      <th></th>\n",
       "      <th>GOOGL</th>\n",
       "      <th>MSFT</th>\n",
       "      <th>ORCL</th>\n",
       "      <th>TSLA</th>\n",
       "    </tr>\n",
       "    <tr>\n",
       "      <th>name</th>\n",
       "      <th></th>\n",
       "      <th></th>\n",
       "      <th></th>\n",
       "      <th></th>\n",
       "    </tr>\n",
       "  </thead>\n",
       "  <tbody>\n",
       "    <tr>\n",
       "      <th>sharpe</th>\n",
       "      <td>0.379380</td>\n",
       "      <td>0.049998</td>\n",
       "      <td>0.093267</td>\n",
       "      <td>0.548452</td>\n",
       "    </tr>\n",
       "    <tr>\n",
       "      <th>return</th>\n",
       "      <td>0.060518</td>\n",
       "      <td>0.006740</td>\n",
       "      <td>0.011909</td>\n",
       "      <td>0.180280</td>\n",
       "    </tr>\n",
       "  </tbody>\n",
       "</table>\n",
       "</div>"
      ],
      "text/plain": [
       "           GOOGL      MSFT      ORCL      TSLA\n",
       "name                                          \n",
       "sharpe  0.379380  0.049998  0.093267  0.548452\n",
       "return  0.060518  0.006740  0.011909  0.180280"
      ]
     },
     "execution_count": 58,
     "metadata": {},
     "output_type": "execute_result"
    }
   ],
   "source": [
    "m.get_summary()"
   ]
  },
  {
   "cell_type": "code",
   "execution_count": 23,
   "metadata": {},
   "outputs": [
    {
     "data": {
      "text/html": [
       "<div>\n",
       "<style scoped>\n",
       "    .dataframe tbody tr th:only-of-type {\n",
       "        vertical-align: middle;\n",
       "    }\n",
       "\n",
       "    .dataframe tbody tr th {\n",
       "        vertical-align: top;\n",
       "    }\n",
       "\n",
       "    .dataframe thead th {\n",
       "        text-align: right;\n",
       "    }\n",
       "</style>\n",
       "<table border=\"1\" class=\"dataframe\">\n",
       "  <thead>\n",
       "    <tr style=\"text-align: right;\">\n",
       "      <th></th>\n",
       "      <th>0</th>\n",
       "    </tr>\n",
       "  </thead>\n",
       "  <tbody>\n",
       "    <tr>\n",
       "      <th>0</th>\n",
       "      <td>sharpe</td>\n",
       "    </tr>\n",
       "    <tr>\n",
       "      <th>1</th>\n",
       "      <td>return</td>\n",
       "    </tr>\n",
       "  </tbody>\n",
       "</table>\n",
       "</div>"
      ],
      "text/plain": [
       "        0\n",
       "0  sharpe\n",
       "1  return"
      ]
     },
     "execution_count": 23,
     "metadata": {},
     "output_type": "execute_result"
    }
   ],
   "source": [
    "pd.DataFrame([\"sharpe\",\"return\"])"
   ]
  }
 ],
 "metadata": {
  "kernelspec": {
   "display_name": "Python 3",
   "language": "python",
   "name": "python3"
  },
  "language_info": {
   "codemirror_mode": {
    "name": "ipython",
    "version": 3
   },
   "file_extension": ".py",
   "mimetype": "text/x-python",
   "name": "python",
   "nbconvert_exporter": "python",
   "pygments_lexer": "ipython3",
   "version": "3.10.9"
  },
  "orig_nbformat": 4,
  "vscode": {
   "interpreter": {
    "hash": "a42ccb73e7d9bfdf27e036f1d2b8b681e55fc0743cc5586bc2474d4a60f4b886"
   }
  }
 },
 "nbformat": 4,
 "nbformat_minor": 2
}
